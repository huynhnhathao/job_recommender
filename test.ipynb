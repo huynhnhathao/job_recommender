{
 "cells": [
  {
   "cell_type": "code",
   "execution_count": 1,
   "id": "db03f561",
   "metadata": {},
   "outputs": [],
   "source": [
    "%load_ext autoreload\n",
    "%autoreload 2\n"
   ]
  },
  {
   "cell_type": "code",
   "execution_count": 2,
   "id": "077107f3",
   "metadata": {},
   "outputs": [],
   "source": [
    "# !pip install langdetect"
   ]
  },
  {
   "cell_type": "code",
   "execution_count": 3,
   "id": "dd0c723a",
   "metadata": {},
   "outputs": [
    {
     "name": "stderr",
     "output_type": "stream",
     "text": [
      "[nltk_data] Downloading package stopwords to\n",
      "[nltk_data]     /home/huynhhao/nltk_data...\n",
      "[nltk_data]   Package stopwords is already up-to-date!\n",
      "[nltk_data] Downloading package wordnet to /home/huynhhao/nltk_data...\n",
      "[nltk_data]   Package wordnet is already up-to-date!\n"
     ]
    }
   ],
   "source": [
    "import logging\n",
    "import string\n",
    "\n",
    "import networkx as nx\n",
    "import numpy as np\n",
    "import pandas as pd\n",
    "import matplotlib.pyplot as plt\n",
    "from langdetect import detect\n",
    "\n",
    "from recommender.core import network_builder"
   ]
  },
  {
   "cell_type": "code",
   "execution_count": 4,
   "id": "d2cb5bc1",
   "metadata": {},
   "outputs": [],
   "source": [
    "companies_df = pd.read_csv(r'/home/huynhhao/Desktop/job_recommender/data/companies.csv')\n",
    "jobs_df = pd.read_csv(r'/home/huynhhao/Desktop/job_recommender/data/jobs.csv')\n",
    "cv = pd.read_csv(r'/home/huynhhao/Desktop/job_recommender/data/cvdata/ResumeDataSet.csv', encoding = 'utf-8')\n",
    "\n",
    "companies_df.fillna('', inplace = True)\n",
    "jobs_df.fillna('', inplace = True)\n",
    "cv.fillna('', inplace = True)\n",
    "\n",
    "# filter out companies and jobs that not in English\n",
    "companies_df['lang'] = [detect(str(row['overview'])) == 'en' if len(row['overview']) > 5 else False for _, row in companies_df.iterrows()]\n",
    "jobs_df['lang'] = [detect(str(row['description'])) == 'en' if len(row['description']) > 5 else False for _, row in jobs_df.iterrows() ]\n",
    "companies_df = companies_df.loc[companies_df['lang'], :]\n",
    "jobs_df = jobs_df.loc[jobs_df['lang'], :]\n",
    "\n",
    "# filter out jobs that do not have a companies in companies_df\n",
    "all_companies = companies_df['company_id'].values\n",
    "jobs_df['company_exist'] = [True if x in all_companies else False for x in jobs_df['company_id'].values]\n",
    "jobs_df = jobs_df.loc[jobs_df['company_exist'], :]"
   ]
  },
  {
   "cell_type": "code",
   "execution_count": 39,
   "id": "a9a944fb",
   "metadata": {},
   "outputs": [],
   "source": [
    "# transform companies_df and jobs_df into dicts\n",
    "employers_data = {}\n",
    "jobs_data = {}\n",
    "for i, row in companies_df.iterrows():\n",
    "    employer_data = {'company_name': row['company_name'],\n",
    "                   'average_rating': row['average_rating'],\n",
    "                   'num_review': row['num_review'],\n",
    "                   'city': row['city'],\n",
    "                   'type': row['type'],\n",
    "                   'num_employee': row['num_employee'],\n",
    "                   'country': row['country'],\n",
    "                   'working_day': row['working_day'],\n",
    "                   'OT': row['OT'],\n",
    "                   'overview': row['overview'],\n",
    "                   'expertise': row['expertise'],\n",
    "                   'benifit': row['benifit'],\n",
    "                   'logo_link': row['logo_link']}\n",
    "    \n",
    "    employers_data[row['company_id']] = employer_data\n",
    "    \n",
    "for i, row in jobs_df.iterrows():\n",
    "    job_data = {'company_id': row['company_id'],\n",
    "               'job_name': row['job_name'],\n",
    "               'taglist': row['taglist'],\n",
    "               'location': row['location'], \n",
    "               'three_reasons': row['three_reasons'],\n",
    "               'description': row['description']}\n",
    "    jobs_data[row['job_id']] = job_data\n",
    "    "
   ]
  },
  {
   "cell_type": "code",
   "execution_count": 9,
   "id": "6c6ef605",
   "metadata": {},
   "outputs": [
    {
     "name": "stderr",
     "output_type": "stream",
     "text": [
      "2021-11-16 02:00:30,948 - Start building the master Graph...\n",
      "2021-11-16 02:00:30,961 - Master Graph building is completed.\n",
      "2021-11-16 02:00:30,962 - Creating Comparer\n",
      "2021-11-16 02:00:30,979 - Creating vocab\n",
      "2021-11-16 02:00:33,994 - Vocab is created\n"
     ]
    }
   ],
   "source": [
    "nb = network_builder.NetworkBuilder(companies_df, jobs_df, cv )"
   ]
  },
  {
   "cell_type": "code",
   "execution_count": 10,
   "id": "687b44ae",
   "metadata": {},
   "outputs": [
    {
     "data": {
      "text/plain": [
       "5584"
      ]
     },
     "execution_count": 10,
     "metadata": {},
     "output_type": "execute_result"
    }
   ],
   "source": [
    "len(nb.vocab)"
   ]
  },
  {
   "cell_type": "code",
   "execution_count": 14,
   "id": "a84136b5",
   "metadata": {},
   "outputs": [
    {
     "data": {
      "text/plain": [
       "0"
      ]
     },
     "execution_count": 14,
     "metadata": {},
     "output_type": "execute_result"
    }
   ],
   "source": [
    "nb.vocab['_unknown_']"
   ]
  },
  {
   "cell_type": "code",
   "execution_count": 109,
   "id": "7debc7ea",
   "metadata": {},
   "outputs": [
    {
     "data": {
      "text/plain": [
       "{'name': 'Jobs graph',\n",
       " 'num_employers': 2041,\n",
       " 'num_jobs': 1411,\n",
       " 'num_candidates': 962}"
      ]
     },
     "execution_count": 109,
     "metadata": {},
     "output_type": "execute_result"
    }
   ],
   "source": [
    "nb.G.graph"
   ]
  },
  {
   "cell_type": "code",
   "execution_count": 12,
   "id": "05d917ec",
   "metadata": {},
   "outputs": [
    {
     "data": {
      "text/plain": [
       "{'node_type': 'employer',\n",
       " 'company_name': 'KMS Technology',\n",
       " 'average_rating': 4.0,\n",
       " 'num_review': '197 Reviews',\n",
       " 'city': 'Ho Chi Minh, Da Nang, Ha Noi',\n",
       " 'type': 'Outsourcing',\n",
       " 'num_employee': '1000+',\n",
       " 'country': 'United States',\n",
       " 'working_day': 'Monday - Friday',\n",
       " 'OT': 'No OT',\n",
       " 'overview': 'Established in 2009, KMS Technology is a U.S.-based engineering and services company with development centers in Vietnam. KMS Technology is trusted by international clients for the superior quality of products and expertise of Vietnamese engineers.\\n\\nKMS builds and successfully launches its own software companies through its internal startup incubator,\\xa0KMS Labs. Most notable companies include\\xa0QASymphony,\\xa0Kobiton,\\xa0Katalon, and\\xa0Grove. Under the brand,\\xa0KMS Solutions, the company serves the Asia Pacific region, offering technology solution consulting and bringing the most advanced and latest technologies to the Asian market.\\xa0\\n\\nKMS is committed to making a long-lasting social impact by partnering with non-profit organizations that give disadvantaged students fair and better employment opportunities. The company regularly cooperates with universities, participates in IT training activities and specialized events, and sponsors scholarship programs in Vietnam. The company has received many prestigious industry awards, and has been named one of the greatest places to work in Vietnam, Asia, and the U.S. for many years in a row.',\n",
       " 'expertise': nan,\n",
       " 'benifit': \"Want to be the Best? Join KMS!\\n\\n\\nIt’s positive to claim we’re one of the top IT companies in Vietnam:\\n\\n\\n\\nFrom Vietnam, we have crafted brilliant products for millions of global users.\\n\\n\\nWe build awesome global products to conquer the world from Vietnam: QASymphony, Kobiton, Katalon, Witurn, Sprynkl and many more to come.\\n\\n\\nWe’re committed to investing in our people and building a workplace you’ll love coming to every day.\\n\\n\\n\\n\\n\\nPerks you 'll love at KMS:\\n\\n\\n\\n\\n\\nWorking in one of the Best Places to Work in Vietnam\\n\\n\\nBuilding large-scale &amp; global software products\\n\\n\\nWorking &amp; growing with Passionate &amp; Talented Team\\n\\n\\nDiverse careers opportunities with Software Outsourcing, Software Product Development, IT Solutions &amp; Consulting\\n\\n\\nAttractive Salary and Benefits\\n\\n\\nPerformance appraisals every year\\n\\n\\nOnsite opportunities: short-term and long-term assignments in U.S, Europe, Asia.\\n\\n\\nFlexible working time\\n\\n\\nVarious training on hot-trend technologies, best practices and soft skills\\n\\n\\nPremium healthcare insurance for you and your loved ones\\n\\n\\nCompany trip, big annual year-end party every year, team building, etc.\\n\\n\\nFitness &amp; sport activities: football, tennis, table-tennis, badminton, yoga, swimming…\\n\\n\\nJoining community development activities: 1% Pledge, charity every quarter, blood donation, public seminars, career orientation talks,…\\n\\n\\nFree in-house entertainment facilities (foosball, ping pong, gym…), coffee (latte, cappuccino, espresso) and snack (instant noodles, cookies, candies…)\\n\\n\\n\\nAnd much more, join us and let yourself explore other fantastic things!\",\n",
       " 'logo_link': 'https://itviec.com/rails/active_storage/representations/proxy/eyJfcmFpbHMiOnsibWVzc2FnZSI6IkJBaHBBNE1uREE9PSIsImV4cCI6bnVsbCwicHVyIjoiYmxvYl9pZCJ9fQ==--97db4f0be292da42408f8c8ba126cbf20b1626a8/eyJfcmFpbHMiOnsibWVzc2FnZSI6IkJBaDdCem9MWm05eWJXRjBTU0lJY0c1bkJqb0dSVlE2RW5KbGMybDZaVjkwYjE5bWFYUmJCMmtCcWpBPSIsImV4cCI6bnVsbCwicHVyIjoidmFyaWF0aW9uIn19--623b1a923c4c6ecbacda77c459f93960558db010/kms-technology-logo.png'}"
      ]
     },
     "execution_count": 12,
     "metadata": {},
     "output_type": "execute_result"
    }
   ],
   "source": [
    "nb.G.nodes['kms-technology']"
   ]
  },
  {
   "cell_type": "code",
   "execution_count": 14,
   "id": "39f49e7b",
   "metadata": {},
   "outputs": [
    {
     "data": {
      "text/plain": [
       "4414"
      ]
     },
     "execution_count": 14,
     "metadata": {},
     "output_type": "execute_result"
    }
   ],
   "source": [
    "len(nb.G.nodes)"
   ]
  },
  {
   "cell_type": "code",
   "execution_count": 15,
   "id": "cfd8d9e8",
   "metadata": {},
   "outputs": [
    {
     "data": {
      "text/plain": [
       "{'name': 'Jobs graph',\n",
       " 'num_employers': 2041,\n",
       " 'num_jobs': 1411,\n",
       " 'num_candidates': 962,\n",
       " 'num_candidate_match_job': 0,\n",
       " 'num_similar_candidates': 0,\n",
       " 'num_similar_jobs': 0,\n",
       " 'num_similar_employers': 0,\n",
       " 'num_apply': 0,\n",
       " 'num_favorite': 0}"
      ]
     },
     "execution_count": 15,
     "metadata": {},
     "output_type": "execute_result"
    }
   ],
   "source": [
    "nb.G.graph"
   ]
  },
  {
   "cell_type": "code",
   "execution_count": 27,
   "id": "e71bdca2",
   "metadata": {},
   "outputs": [],
   "source": [
    "all_documents = []\n",
    "texts = ''\n",
    "for node_name, node_data in nb.G.nodes.items():\n",
    "    if node_data['node_type'] == 'employer':\n",
    "        all_documents.append(' '.join([str(node_data['overview']), str(node_data['benifit']) ]))\n",
    "    elif node_data['node_type'] == 'job':\n",
    "        all_documents.append(' '.join([str(node_data['three_reasons']), str(node_data['description']) ]))\n",
    "    elif node_data['node_type'] == 'candidate':\n",
    "        all_documents.append(node_data['resume'])\n",
    "    else:\n",
    "        continue\n",
    "        \n"
   ]
  },
  {
   "cell_type": "code",
   "execution_count": 28,
   "id": "ae5fd70c",
   "metadata": {},
   "outputs": [
    {
     "data": {
      "text/plain": [
       "4414"
      ]
     },
     "execution_count": 28,
     "metadata": {},
     "output_type": "execute_result"
    }
   ],
   "source": [
    "len(all_documents)"
   ]
  },
  {
   "cell_type": "code",
   "execution_count": 18,
   "id": "0dc3bdd2",
   "metadata": {},
   "outputs": [
    {
     "data": {
      "text/html": [
       "<div>\n",
       "<style scoped>\n",
       "    .dataframe tbody tr th:only-of-type {\n",
       "        vertical-align: middle;\n",
       "    }\n",
       "\n",
       "    .dataframe tbody tr th {\n",
       "        vertical-align: top;\n",
       "    }\n",
       "\n",
       "    .dataframe thead th {\n",
       "        text-align: right;\n",
       "    }\n",
       "</style>\n",
       "<table border=\"1\" class=\"dataframe\">\n",
       "  <thead>\n",
       "    <tr style=\"text-align: right;\">\n",
       "      <th></th>\n",
       "      <th>job_id</th>\n",
       "      <th>company_id</th>\n",
       "      <th>job_name</th>\n",
       "      <th>taglist</th>\n",
       "      <th>location</th>\n",
       "      <th>three_reasons</th>\n",
       "      <th>description</th>\n",
       "      <th>lang</th>\n",
       "    </tr>\n",
       "  </thead>\n",
       "  <tbody>\n",
       "    <tr>\n",
       "      <th>0</th>\n",
       "      <td>kms-technology:jrsr_qa_engineer_kms_labs_bonus</td>\n",
       "      <td>kms-technology</td>\n",
       "      <td>(Jr/Sr) QA Engineer, KMS Labs - BONUS</td>\n",
       "      <td>QA QC   English   Tester</td>\n",
       "      <td>290/26 Nam Ky Khoi Nghia, ward 8, District 3, ...</td>\n",
       "      <td>Inspired Leadership Team and Talented Colleagu...</td>\n",
       "      <td>KMS Labs is the startup incubation arm of KMS ...</td>\n",
       "      <td>True</td>\n",
       "    </tr>\n",
       "    <tr>\n",
       "      <th>1</th>\n",
       "      <td>kms-technology:engineering_manager_bonus</td>\n",
       "      <td>kms-technology</td>\n",
       "      <td>Engineering Manager - BONUS</td>\n",
       "      <td>Project Manager   Agile   English</td>\n",
       "      <td>02 Tan Vien, ward 2, Tan Binh, Ho Chi Minh</td>\n",
       "      <td>Inspired Leadership Team and Talented Colleagu...</td>\n",
       "      <td>Full 13th Month Salary. ***Apply and Join in S...</td>\n",
       "      <td>True</td>\n",
       "    </tr>\n",
       "    <tr>\n",
       "      <th>2</th>\n",
       "      <td>kms-technology:fullstack_mobile_mobilenodejs_k...</td>\n",
       "      <td>kms-technology</td>\n",
       "      <td>Fullstack Mobile (Mobile,NodeJs) Kobiton</td>\n",
       "      <td>NodeJS   React Native   Fresher Accepted</td>\n",
       "      <td>02 Tan Vien, ward 2, Tan Binh, Ho Chi Minh</td>\n",
       "      <td>Inspired Leadership Team and Talented Colleagu...</td>\n",
       "      <td>is the mobile experience platform trusted by l...</td>\n",
       "      <td>True</td>\n",
       "    </tr>\n",
       "    <tr>\n",
       "      <th>3</th>\n",
       "      <td>kms-technology:jrsrprincipal_java_developer_bonus</td>\n",
       "      <td>kms-technology</td>\n",
       "      <td>(Jr/Sr/Principal) Java Developer- BONUS</td>\n",
       "      <td>Java   JavaScript   Spring</td>\n",
       "      <td>174 Thai Ha, Dong Da, Ha Noi</td>\n",
       "      <td>Inspired Leadership Team and Talented Colleagu...</td>\n",
       "      <td>Full 13th Month Salary ***Apply and Join in Se...</td>\n",
       "      <td>True</td>\n",
       "    </tr>\n",
       "    <tr>\n",
       "      <th>4</th>\n",
       "      <td>kms-technology:product_manager_kms_labs_bonus</td>\n",
       "      <td>kms-technology</td>\n",
       "      <td>Product Manager, KMS Labs - BONUS</td>\n",
       "      <td>Product Manager   English   Manager</td>\n",
       "      <td>290/26 Nam Ky Khoi Nghia, ward 8, District 3, ...</td>\n",
       "      <td>Inspired Leadership Team and Talented Colleagu...</td>\n",
       "      <td>KMS Labs\\n is the startup incubation arm of KM...</td>\n",
       "      <td>True</td>\n",
       "    </tr>\n",
       "    <tr>\n",
       "      <th>...</th>\n",
       "      <td>...</td>\n",
       "      <td>...</td>\n",
       "      <td>...</td>\n",
       "      <td>...</td>\n",
       "      <td>...</td>\n",
       "      <td>...</td>\n",
       "      <td>...</td>\n",
       "      <td>...</td>\n",
       "    </tr>\n",
       "    <tr>\n",
       "      <th>1404</th>\n",
       "      <td>asinzen:nodejs_python_developer_100_remote</td>\n",
       "      <td>asinzen</td>\n",
       "      <td>Nodejs / Python developer (100% remote)</td>\n",
       "      <td>NodeJS   Python   Database</td>\n",
       "      <td>66 Đường số 72, District 2, Ho Chi Minh</td>\n",
       "      <td>Work Remotely\\n Great salary\\nRoom for Growth</td>\n",
       "      <td>Don't need to speak English! Our Code team is ...</td>\n",
       "      <td>True</td>\n",
       "    </tr>\n",
       "    <tr>\n",
       "      <th>1406</th>\n",
       "      <td>gnt-vn-ltd:05_mid_senior_frontend_dev_reactjs</td>\n",
       "      <td>gnt-vn-ltd</td>\n",
       "      <td>05 Mid/ Senior Front-end Dev (ReactJS)</td>\n",
       "      <td>ReactJS   JavaScript   VueJS   Fresher Accepted</td>\n",
       "      <td>46-48-50-52 B4 Street, Sala Urban Area, Distri...</td>\n",
       "      <td>Excellent career opportunities.\\nAttractive sa...</td>\n",
       "      <td>Gambaru is envisioned as a platform for future...</td>\n",
       "      <td>True</td>\n",
       "    </tr>\n",
       "    <tr>\n",
       "      <th>1409</th>\n",
       "      <td>misa-software:net_dev_net_core_c_signon_bonus</td>\n",
       "      <td>misa-software</td>\n",
       "      <td>.NET Dev (.NET Core, C#) $ Sign-on Bonus</td>\n",
       "      <td>.NET   C#   ASP.NET</td>\n",
       "      <td>40 Lam Son Street, Ward 2, Tan Binh, Ho Chi Minh</td>\n",
       "      <td>Comfortable Working Conditions\\nInteresting &amp; ...</td>\n",
       "      <td>We are looking for 30 Intermediate/Senior .NET...</td>\n",
       "      <td>True</td>\n",
       "    </tr>\n",
       "    <tr>\n",
       "      <th>1410</th>\n",
       "      <td>thuocsi-vn:remote_fullstack_dev_javascript</td>\n",
       "      <td>thuocsi-vn</td>\n",
       "      <td>[REMOTE] Fullstack Dev (JavaScript)</td>\n",
       "      <td>JavaScript   NodeJS   ReactJS</td>\n",
       "      <td>Cebu City, Philippines, Other, Ho Chi Minh</td>\n",
       "      <td>15 paid annual leaves\\n100% work from home\\nFl...</td>\n",
       "      <td>Participates in all phases of the software dev...</td>\n",
       "      <td>True</td>\n",
       "    </tr>\n",
       "    <tr>\n",
       "      <th>1411</th>\n",
       "      <td>mobile-health-vietnam:senior_python_developer</td>\n",
       "      <td>mobile-health-vietnam</td>\n",
       "      <td>Senior Python Developer</td>\n",
       "      <td>Python   Django   ReactJS</td>\n",
       "      <td>16 Tam Dao, District 10, Ho Chi Minh</td>\n",
       "      <td>Best agile environment\\nTalented developers\\nH...</td>\n",
       "      <td>Receive a full 13th month Tet bonus as long as...</td>\n",
       "      <td>True</td>\n",
       "    </tr>\n",
       "  </tbody>\n",
       "</table>\n",
       "<p>994 rows × 8 columns</p>\n",
       "</div>"
      ],
      "text/plain": [
       "                                                 job_id  \\\n",
       "0        kms-technology:jrsr_qa_engineer_kms_labs_bonus   \n",
       "1              kms-technology:engineering_manager_bonus   \n",
       "2     kms-technology:fullstack_mobile_mobilenodejs_k...   \n",
       "3     kms-technology:jrsrprincipal_java_developer_bonus   \n",
       "4         kms-technology:product_manager_kms_labs_bonus   \n",
       "...                                                 ...   \n",
       "1404         asinzen:nodejs_python_developer_100_remote   \n",
       "1406      gnt-vn-ltd:05_mid_senior_frontend_dev_reactjs   \n",
       "1409      misa-software:net_dev_net_core_c_signon_bonus   \n",
       "1410         thuocsi-vn:remote_fullstack_dev_javascript   \n",
       "1411      mobile-health-vietnam:senior_python_developer   \n",
       "\n",
       "                 company_id                                  job_name  \\\n",
       "0            kms-technology     (Jr/Sr) QA Engineer, KMS Labs - BONUS   \n",
       "1            kms-technology               Engineering Manager - BONUS   \n",
       "2            kms-technology  Fullstack Mobile (Mobile,NodeJs) Kobiton   \n",
       "3            kms-technology   (Jr/Sr/Principal) Java Developer- BONUS   \n",
       "4            kms-technology         Product Manager, KMS Labs - BONUS   \n",
       "...                     ...                                       ...   \n",
       "1404                asinzen   Nodejs / Python developer (100% remote)   \n",
       "1406             gnt-vn-ltd    05 Mid/ Senior Front-end Dev (ReactJS)   \n",
       "1409          misa-software  .NET Dev (.NET Core, C#) $ Sign-on Bonus   \n",
       "1410             thuocsi-vn       [REMOTE] Fullstack Dev (JavaScript)   \n",
       "1411  mobile-health-vietnam                   Senior Python Developer   \n",
       "\n",
       "                                                taglist  \\\n",
       "0                             QA QC   English   Tester    \n",
       "1                    Project Manager   Agile   English    \n",
       "2             NodeJS   React Native   Fresher Accepted    \n",
       "3                           Java   JavaScript   Spring    \n",
       "4                  Product Manager   English   Manager    \n",
       "...                                                 ...   \n",
       "1404                        NodeJS   Python   Database    \n",
       "1406   ReactJS   JavaScript   VueJS   Fresher Accepted    \n",
       "1409                               .NET   C#   ASP.NET    \n",
       "1410                     JavaScript   NodeJS   ReactJS    \n",
       "1411                         Python   Django   ReactJS    \n",
       "\n",
       "                                               location  \\\n",
       "0     290/26 Nam Ky Khoi Nghia, ward 8, District 3, ...   \n",
       "1            02 Tan Vien, ward 2, Tan Binh, Ho Chi Minh   \n",
       "2            02 Tan Vien, ward 2, Tan Binh, Ho Chi Minh   \n",
       "3                          174 Thai Ha, Dong Da, Ha Noi   \n",
       "4     290/26 Nam Ky Khoi Nghia, ward 8, District 3, ...   \n",
       "...                                                 ...   \n",
       "1404            66 Đường số 72, District 2, Ho Chi Minh   \n",
       "1406  46-48-50-52 B4 Street, Sala Urban Area, Distri...   \n",
       "1409   40 Lam Son Street, Ward 2, Tan Binh, Ho Chi Minh   \n",
       "1410         Cebu City, Philippines, Other, Ho Chi Minh   \n",
       "1411               16 Tam Dao, District 10, Ho Chi Minh   \n",
       "\n",
       "                                          three_reasons  \\\n",
       "0     Inspired Leadership Team and Talented Colleagu...   \n",
       "1     Inspired Leadership Team and Talented Colleagu...   \n",
       "2     Inspired Leadership Team and Talented Colleagu...   \n",
       "3     Inspired Leadership Team and Talented Colleagu...   \n",
       "4     Inspired Leadership Team and Talented Colleagu...   \n",
       "...                                                 ...   \n",
       "1404      Work Remotely\\n Great salary\\nRoom for Growth   \n",
       "1406  Excellent career opportunities.\\nAttractive sa...   \n",
       "1409  Comfortable Working Conditions\\nInteresting & ...   \n",
       "1410  15 paid annual leaves\\n100% work from home\\nFl...   \n",
       "1411  Best agile environment\\nTalented developers\\nH...   \n",
       "\n",
       "                                            description  lang  \n",
       "0     KMS Labs is the startup incubation arm of KMS ...  True  \n",
       "1     Full 13th Month Salary. ***Apply and Join in S...  True  \n",
       "2     is the mobile experience platform trusted by l...  True  \n",
       "3     Full 13th Month Salary ***Apply and Join in Se...  True  \n",
       "4     KMS Labs\\n is the startup incubation arm of KM...  True  \n",
       "...                                                 ...   ...  \n",
       "1404  Don't need to speak English! Our Code team is ...  True  \n",
       "1406  Gambaru is envisioned as a platform for future...  True  \n",
       "1409  We are looking for 30 Intermediate/Senior .NET...  True  \n",
       "1410  Participates in all phases of the software dev...  True  \n",
       "1411  Receive a full 13th month Tet bonus as long as...  True  \n",
       "\n",
       "[994 rows x 8 columns]"
      ]
     },
     "execution_count": 18,
     "metadata": {},
     "output_type": "execute_result"
    }
   ],
   "source": [
    "jobs_df"
   ]
  },
  {
   "cell_type": "code",
   "execution_count": 57,
   "id": "003bbc37",
   "metadata": {},
   "outputs": [],
   "source": [
    "n = []\n",
    "for _, d in nb.G.nodes.items():\n",
    "    n.append(d['node_type'])"
   ]
  },
  {
   "cell_type": "code",
   "execution_count": null,
   "id": "8cf90ed2",
   "metadata": {},
   "outputs": [],
   "source": []
  }
 ],
 "metadata": {
  "kernelspec": {
   "display_name": "Python 3",
   "language": "python",
   "name": "python3"
  },
  "language_info": {
   "codemirror_mode": {
    "name": "ipython",
    "version": 3
   },
   "file_extension": ".py",
   "mimetype": "text/x-python",
   "name": "python",
   "nbconvert_exporter": "python",
   "pygments_lexer": "ipython3",
   "version": "3.8.11"
  }
 },
 "nbformat": 4,
 "nbformat_minor": 5
}
