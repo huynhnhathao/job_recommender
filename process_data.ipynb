{
 "cells": [
  {
   "cell_type": "code",
   "execution_count": 13,
   "metadata": {},
   "outputs": [],
   "source": [
    "import string\n",
    "import json\n",
    "import re\n",
    "\n",
    "import pandas as pd\n",
    "import numpy as np\n",
    "\n"
   ]
  },
  {
   "cell_type": "markdown",
   "metadata": {},
   "source": [
    "## First let's read all data and create dataframes from them"
   ]
  },
  {
   "cell_type": "code",
   "execution_count": 42,
   "metadata": {},
   "outputs": [],
   "source": [
    "# read in json line data and create dataframes\n",
    "companies_info = []\n",
    "with open('/home/huynhhao/Desktop/job_recommender/crawl_data/companies_info.jl', 'r', encoding = 'utf-8') as f:\n",
    "    for line in f:\n",
    "        company_info = json.loads(line)\n",
    "        companies_info.append(company_info)\n",
    "        \n",
    "# create a companies dataframe\n",
    "companies_df = pd.DataFrame([], columns = ['company_id', 'company_name', 'average_rating', 'num_review' ,\n",
    "                                           'city', 'type', 'num_employee',  'country', 'working_day', 'OT', \n",
    "                                           'overview','expertise', 'benifit', 'logo_link' ])\n",
    "for company in companies_info:\n",
    "    companies_df = companies_df.append({'company_id': company['company_name'], \n",
    "                                       'company_name': company['name'],\n",
    "                                        'average_rating': company['average_rating'],\n",
    "                                        'num_review': company['num_review'],\n",
    "                                       'city': company['city'],\n",
    "                                       'type': company['type'], \n",
    "                                       'num_employee': company['num_employee'], \n",
    "                                       'country': company['country'],\n",
    "                                       'working_day': company['working_day'], \n",
    "                                       'OT': company['OT'], \n",
    "                                       'overview': company['overview'],\n",
    "                                        'expertise': company['expertise'],\n",
    "                                        'benifit': company['benifit'],\n",
    "                                       'logo_link': company['logo']},\n",
    "                                      ignore_index = True)\n",
    "    \n",
    "    \n",
    "\n",
    "jobs_info = []\n",
    "with open('/home/huynhhao/Desktop/job_recommender/crawl_data/job_info.jl', 'r', encoding = 'utf-8') as f:\n",
    "    for line in f:\n",
    "        job = json.loads(line)\n",
    "        jobs_info.append(job)\n",
    "        \n",
    "# job_info dataframe\n",
    "jobs_df = pd.DataFrame([], columns = ['company_id', 'job_name', 'taglist', 'location', 'three_reasons', 'description'])\n",
    "for job in jobs_info:\n",
    "    jobs_df = jobs_df.append({'company_id': job['company_name'],\n",
    "                             'job_name': job['job_name'],\n",
    "                             'taglist': job['tag_list'],\n",
    "                             'location': job['location'],\n",
    "                             'three_reasons': job['three_reasons'],\n",
    "                             'description': job['description']},\n",
    "                             ignore_index = True)"
   ]
  },
  {
   "cell_type": "code",
   "execution_count": 46,
   "metadata": {},
   "outputs": [],
   "source": [
    "compaines_df = companies_df.fillna('')\n",
    "jobs_df = jobs_df.fillna('')"
   ]
  },
  {
   "cell_type": "markdown",
   "metadata": {},
   "source": [
    "### Now we'll preprocess all text data"
   ]
  },
  {
   "cell_type": "code",
   "execution_count": 52,
   "metadata": {},
   "outputs": [],
   "source": [
    "def remove_tags(text: str, replaced: str = '\\n') -> str:\n",
    "    # remove all html tags in text and return the without-html-tag text\n",
    "    if text is not None:\n",
    "        return re.sub(r'<.*?>', replaced, text ).strip()\n",
    "    return ''\n",
    "for i in range(len(companies_df)):\n",
    "    companies_df.loc[i, 'overview'] = remove_tags(companies_df.loc[i, 'overview'])\n",
    "    companies_df.loc[i, 'expertise'] = remove_tags(companies_df.loc[i, 'expertise'])\n",
    "#     print(companies_df.loc[i, 'benifit'])\n",
    "    companies_df.loc[i, 'benifit'] = remove_tags(companies_df.loc[i, 'benifit'])\n",
    "    \n"
   ]
  },
  {
   "cell_type": "code",
   "execution_count": 55,
   "metadata": {},
   "outputs": [],
   "source": [
    "# preprocess jobs_df\n",
    "for i in range(len(jobs_df)):\n",
    "    jobs_df.loc[i, 'three_reasons'] = remove_tags(jobs_df.loc[i, 'three_reasons'])\n",
    "    jobs_df.loc[i, 'description'] = remove_tags(jobs_df.loc[i, 'description'])\n",
    "    jobs_df.loc[i, 'taglist'] = ' '.join(' '.join(jobs_df.loc[i, 'taglist'].split('\\n')).split(' '))"
   ]
  },
  {
   "cell_type": "code",
   "execution_count": 72,
   "metadata": {},
   "outputs": [
    {
     "data": {
      "text/plain": [
       "True"
      ]
     },
     "execution_count": 72,
     "metadata": {},
     "output_type": "execute_result"
    }
   ],
   "source": [
    "# Check if all the company ids in jobs_df dataframe are actually from the company ids in companies_df dataframe\n",
    "# which means you don't have a job that is posted by a non-existed company!\n",
    "set(jobs_df.loc[:, 'company_id'].values).issubset(set(companies_df.loc[:, 'company_id'].values))"
   ]
  },
  {
   "cell_type": "markdown",
   "metadata": {},
   "source": [
    "**So far so good, the preprocessing of companies_df and jobs_df are done here, the remaining works will be left to the user of these dataframe. Let's save them and moving to preprocess the CV dataset**"
   ]
  },
  {
   "cell_type": "code",
   "execution_count": 76,
   "metadata": {},
   "outputs": [],
   "source": [
    "companies_df_path = '/home/huynhhao/Desktop/job_recommender/data/companies.csv'\n",
    "jobs_df_path = '/home/huynhhao/Desktop/job_recommender/data/jobs.csv'\n",
    "companies_df.to_csv(companies_df_path, index = False, encoding = 'utf-8')\n",
    "jobs_df.to_csv(jobs_df_path, index = False, encoding = 'utf-8')"
   ]
  },
  {
   "cell_type": "markdown",
   "metadata": {},
   "source": [
    "**Now we'll add unique id for each company and job**"
   ]
  },
  {
   "cell_type": "code",
   "execution_count": 32,
   "metadata": {},
   "outputs": [],
   "source": [
    "companies_df = pd.read_csv(r'C:\\Users\\ASUS\\Desktop\\job_recommender\\data\\companies.csv')\n",
    "jobs_df = pd.read_csv(r'C:\\Users\\ASUS\\Desktop\\job_recommender\\data\\jobs.csv')"
   ]
  },
  {
   "cell_type": "code",
   "execution_count": 33,
   "metadata": {},
   "outputs": [],
   "source": [
    "jobs_df['job_id'] = np.full(len(jobs_df), np.nan)\n",
    "jobs_df = jobs_df[['job_id', 'company_id', 'job_name', 'taglist', 'location', 'three_reasons', 'description']]\n"
   ]
  },
  {
   "cell_type": "code",
   "execution_count": 34,
   "metadata": {},
   "outputs": [],
   "source": [
    "for i in range(len(jobs_df)):\n",
    "    company_id = jobs_df.loc[i, 'company_id']\n",
    "    job_name = jobs_df.loc[i, 'job_name'].lower().translate(str.maketrans('', '', string.punctuation))\n",
    "    job_id = '_'.join(job_name.split())\n",
    "    jobs_df.loc[i, 'job_id'] = company_id + ':' + job_id\n"
   ]
  },
  {
   "cell_type": "code",
   "execution_count": 39,
   "metadata": {},
   "outputs": [],
   "source": [
    "# save the jobs_df again\n",
    "jobs_df_path = r'C:\\Users\\ASUS\\Desktop\\job_recommender\\data\\jobs.csv'\n",
    "\n",
    "jobs_df.to_csv(jobs_df_path, index = False, encoding = 'utf-8')"
   ]
  },
  {
   "cell_type": "markdown",
   "metadata": {},
   "source": [
    "### Now we'll preprocess the CV dataset"
   ]
  },
  {
   "cell_type": "code",
   "execution_count": 42,
   "metadata": {},
   "outputs": [],
   "source": [
    "cvs = pd.read_csv(r'C:\\Users\\ASUS\\Desktop\\job_recommender\\data\\cvdata\\ResumeDataSet.csv', )"
   ]
  },
  {
   "cell_type": "code",
   "execution_count": 45,
   "metadata": {},
   "outputs": [
    {
     "data": {
      "text/plain": [
       "'Skills * Programming Languages: Python (pandas, numpy, scipy, scikit-learn, matplotlib), Sql, Java, JavaScript/JQuery. * Machine learning: Regression, SVM, NaÃ¯ve Bayes, KNN, Random Forest, Decision Trees, Boosting techniques, Cluster Analysis, Word Embedding, Sentiment Analysis, Natural Language processing, Dimensionality reduction, Topic Modelling (LDA, NMF), PCA & Neural Nets. * Database Visualizations: Mysql, SqlServer, Cassandra, Hbase, ElasticSearch D3.js, DC.js, Plotly, kibana, matplotlib, ggplot, Tableau. * Others: Regular Expression, HTML, CSS, Angular 6, Logstash, Kafka, Python Flask, Git, Docker, computer vision - Open CV and understanding of Deep learning.Education Details \\r\\n\\r\\nData Science Assurance Associate \\r\\n\\r\\nData Science Assurance Associate - Ernst & Young LLP\\r\\nSkill Details \\r\\nJAVASCRIPT- Exprience - 24 months\\r\\njQuery- Exprience - 24 months\\r\\nPython- Exprience - 24 monthsCompany Details \\r\\ncompany - Ernst & Young LLP\\r\\ndescription - Fraud Investigations and Dispute Services   Assurance\\r\\nTECHNOLOGY ASSISTED REVIEW\\r\\nTAR (Technology Assisted Review) assists in accelerating the review process and run analytics and generate reports.\\r\\n* Core member of a team helped in developing automated review platform tool from scratch for assisting E discovery domain, this tool implements predictive coding and topic modelling by automating reviews, resulting in reduced labor costs and time spent during the lawyers review.\\r\\n* Understand the end to end flow of the solution, doing research and development for classification models, predictive analysis and mining of the information present in text data. Worked on analyzing the outputs and precision monitoring for the entire tool.\\r\\n* TAR assists in predictive coding, topic modelling from the evidence by following EY standards. Developed the classifier models in order to identify \"red flags\" and fraud-related issues.\\r\\n\\r\\nTools & Technologies: Python, scikit-learn, tfidf, word2vec, doc2vec, cosine similarity, NaÃ¯ve Bayes, LDA, NMF for topic modelling, Vader and text blob for sentiment analysis. Matplot lib, Tableau dashboard for reporting.\\r\\n\\r\\nMULTIPLE DATA SCIENCE AND ANALYTIC PROJECTS (USA CLIENTS)\\r\\nTEXT ANALYTICS - MOTOR VEHICLE CUSTOMER REVIEW DATA * Received customer feedback survey data for past one year. Performed sentiment (Positive, Negative & Neutral) and time series analysis on customer comments across all 4 categories.\\r\\n* Created heat map of terms by survey category based on frequency of words * Extracted Positive and Negative words across all the Survey categories and plotted Word cloud.\\r\\n* Created customized tableau dashboards for effective reporting and visualizations.\\r\\nCHATBOT * Developed a user friendly chatbot for one of our Products which handle simple questions about hours of operation, reservation options and so on.\\r\\n* This chat bot serves entire product related questions. Giving overview of tool via QA platform and also give recommendation responses so that user question to build chain of relevant answer.\\r\\n* This too has intelligence to build the pipeline of questions as per user requirement and asks the relevant /recommended questions.\\r\\n\\r\\nTools & Technologies: Python, Natural language processing, NLTK, spacy, topic modelling, Sentiment analysis, Word Embedding, scikit-learn, JavaScript/JQuery, SqlServer\\r\\n\\r\\nINFORMATION GOVERNANCE\\r\\nOrganizations to make informed decisions about all of the information they store. The integrated Information Governance portfolio synthesizes intelligence across unstructured data sources and facilitates action to ensure organizations are best positioned to counter information risk.\\r\\n* Scan data from multiple sources of formats and parse different file formats, extract Meta data information, push results for indexing elastic search and created customized, interactive dashboards using kibana.\\r\\n* Preforming ROT Analysis on the data which give information of data which helps identify content that is either Redundant, Outdated, or Trivial.\\r\\n* Preforming full-text search analysis on elastic search with predefined methods which can tag as (PII) personally identifiable information (social security numbers, addresses, names, etc.) which frequently targeted during cyber-attacks.\\r\\nTools & Technologies: Python, Flask, Elastic Search, Kibana\\r\\n\\r\\nFRAUD ANALYTIC PLATFORM\\r\\nFraud Analytics and investigative platform to review all red flag cases.\\r\\nâ\\x80¢ FAP is a Fraud Analytics and investigative platform with inbuilt case manager and suite of Analytics for various ERP systems.\\r\\n* It can be used by clients to interrogate their Accounting systems for identifying the anomalies which can be indicators of fraud by running advanced analytics\\r\\nTools & Technologies: HTML, JavaScript, SqlServer, JQuery, CSS, Bootstrap, Node.js, D3.js, DC.js'"
      ]
     },
     "execution_count": 45,
     "metadata": {},
     "output_type": "execute_result"
    }
   ],
   "source": [
    "cvs.loc[0, 'Resume']"
   ]
  },
  {
   "cell_type": "code",
   "execution_count": 46,
   "metadata": {},
   "outputs": [
    {
     "data": {
      "text/plain": [
       "962"
      ]
     },
     "execution_count": 46,
     "metadata": {},
     "output_type": "execute_result"
    }
   ],
   "source": [
    "len(cvs)"
   ]
  },
  {
   "cell_type": "code",
   "execution_count": null,
   "metadata": {},
   "outputs": [],
   "source": []
  }
 ],
 "metadata": {
  "interpreter": {
   "hash": "14e85d4a77190ddb21ca04761e6fe918abc9f382c46a2b12fd65738fd607c258"
  },
  "kernelspec": {
   "display_name": "Python 3 (ipykernel)",
   "language": "python",
   "name": "python3"
  },
  "language_info": {
   "codemirror_mode": {
    "name": "ipython",
    "version": 3
   },
   "file_extension": ".py",
   "mimetype": "text/x-python",
   "name": "python",
   "nbconvert_exporter": "python",
   "pygments_lexer": "ipython3",
   "version": "3.9.6"
  }
 },
 "nbformat": 4,
 "nbformat_minor": 2
}
