{
 "cells": [
  {
   "cell_type": "code",
   "execution_count": 2,
   "id": "80ec9b9c",
   "metadata": {},
   "outputs": [],
   "source": [
    "%load_ext autoreload\n",
    "%autoreload 2"
   ]
  },
  {
   "cell_type": "code",
   "execution_count": 1,
   "id": "00a67d93",
   "metadata": {},
   "outputs": [
    {
     "name": "stderr",
     "output_type": "stream",
     "text": [
      "[nltk_data] Downloading package stopwords to\n",
      "[nltk_data]     /home/huynhhao/nltk_data...\n",
      "[nltk_data]   Package stopwords is already up-to-date!\n",
      "[nltk_data] Downloading package wordnet to /home/huynhhao/nltk_data...\n",
      "[nltk_data]   Package wordnet is already up-to-date!\n"
     ]
    }
   ],
   "source": [
    "import pickle\n",
    "import networkx as nx\n",
    "import numpy as np\n",
    "import pandas as pd\n",
    "import matplotlib.pyplot as plt\n",
    "\n",
    "from network_builder import*\n",
    "import constants \n",
    "import latent_semantic_analysis\n",
    "\n",
    "# from recommender.core import network_builder"
   ]
  },
  {
   "cell_type": "code",
   "execution_count": 3,
   "id": "1b325bae",
   "metadata": {},
   "outputs": [],
   "source": [
    "companies_df = pd.read_csv(r'C:\\Users\\ASUS\\Desktop\\job_recommender\\data\\companies.csv')\n",
    "jobs_df = pd.read_csv(r'C:\\Users\\ASUS\\Desktop\\job_recommender\\data\\jobs.csv')\n",
    "cv = pd.read_csv(r'C:\\Users\\ASUS\\Desktop\\job_recommender\\data\\cvdata\\ResumeDataSet.csv', encoding = 'utf-8')"
   ]
  },
  {
   "cell_type": "code",
   "execution_count": 39,
   "id": "5eacdf6c",
   "metadata": {},
   "outputs": [],
   "source": [
    "# transform companies_df and jobs_df into dicts\n",
    "employers_data = {}\n",
    "jobs_data = {}\n",
    "for i, row in companies_df.iterrows():\n",
    "    employer_data = {'company_name': row['company_name'],\n",
    "                   'average_rating': row['average_rating'],\n",
    "                   'num_review': row['num_review'],\n",
    "                   'city': row['city'],\n",
    "                   'type': row['type'],\n",
    "                   'num_employee': row['num_employee'],\n",
    "                   'country': row['country'],\n",
    "                   'working_day': row['working_day'],\n",
    "                   'OT': row['OT'],\n",
    "                   'overview': row['overview'],\n",
    "                   'expertise': row['expertise'],\n",
    "                   'benifit': row['benifit'],\n",
    "                   'logo_link': row['logo_link']}\n",
    "    \n",
    "    employers_data[row['company_id']] = employer_data\n",
    "    \n",
    "for i, row in jobs_df.iterrows():\n",
    "    job_data = {'company_id': row['company_id'],\n",
    "               'job_name': row['job_name'],\n",
    "               'taglist': row['taglist'],\n",
    "               'location': row['location'], \n",
    "               'three_reasons': row['three_reasons'],\n",
    "               'description': row['description']}\n",
    "    jobs_data[row['job_id']] = job_data\n",
    "    "
   ]
  },
  {
   "cell_type": "code",
   "execution_count": 68,
   "id": "6fe10f6d",
   "metadata": {},
   "outputs": [],
   "source": [
    "G = nx.MultiDiGraph(name = 'Jobs graph')\n",
    "# first add all employer nodes to the network and its data\n",
    "for employer_id, employer_data in employers_data.items():\n",
    "    G.add_node(employer_id, node_type = 'employer', **employer_data)\n",
    "    \n",
    "# add all job nodes and the bidirectional edges from job node to employer node\n",
    "for job_id, job_data in jobs_data.items():\n",
    "    G.add_node(job_id, node_type = 'job', **job_data)\n",
    "    # add two edges between job and its employers\\\n",
    "    G.add_edge(job_id, job_data['company_id'], weight = 1)\n",
    "    G.add_edge(job_data['company_id'], job_id, weight = 1)"
   ]
  },
  {
   "cell_type": "code",
   "execution_count": 74,
   "id": "6b283984",
   "metadata": {},
   "outputs": [
    {
     "data": {
      "text/plain": [
       "AdjacencyView({'kms-technology:jrsr_qa_engineer_kms_labs_bonus': {0: {'weight': 1}}, 'kms-technology:engineering_manager_bonus': {0: {'weight': 1}}, 'kms-technology:fullstack_mobile_mobilenodejs_kobiton': {0: {'weight': 1}}, 'kms-technology:jrsrprincipal_java_developer_bonus': {0: {'weight': 1}}, 'kms-technology:product_manager_kms_labs_bonus': {0: {'weight': 1}}, 'kms-technology:sr_it_business_analyst_english_bonus': {0: {'weight': 1}}, 'kms-technology:fullstack_dev_reactjsnodejs_kobiton': {0: {'weight': 1}}, 'kms-technology:senior_ruby_on_rails_engineer_bonus': {0: {'weight': 1}}, 'kms-technology:senior_data_engineer_bonus': {0: {'weight': 1}}, 'kms-technology:srjr_fullstack_nodejsreactjs_bonus': {0: {'weight': 1}}, 'kms-technology:juniorsenior_test_engineer_bonus': {0: {'weight': 1}}, 'kms-technology:jrsrprincipal_net_developer_bonus': {0: {'weight': 1}}})"
      ]
     },
     "execution_count": 74,
     "metadata": {},
     "output_type": "execute_result"
    }
   ],
   "source": [
    "G['kms-technology']"
   ]
  },
  {
   "cell_type": "code",
   "execution_count": 3,
   "id": "df739a6c",
   "metadata": {},
   "outputs": [],
   "source": [
    "nb = network_builder.NetworkBuilder(constants.EMPLOYERS_DATA_PATH,\n",
    "                                    constants.JOBS_DATA_PATH, constants.CV_DATAPATH )"
   ]
  },
  {
   "cell_type": "code",
   "execution_count": 5,
   "id": "50c6c96a",
   "metadata": {},
   "outputs": [
    {
     "name": "stderr",
     "output_type": "stream",
     "text": [
      "2021-11-26 06:47:00,391 - Start building the master Graph...\n",
      "2021-11-26 06:47:00,418 - Master Graph is built.\n",
      "2021-11-26 06:47:00,419 - Creating LSA comparer\n",
      "2021-11-26 06:47:00,420 - Loading LSA comparer from /home/huynhhao/Desktop/job_recommender/data/network_data/lsa.pkl\n",
      "2021-11-26 06:47:00,518 - Adding relations edges...\n"
     ]
    }
   ],
   "source": [
    "nb.build()"
   ]
  },
  {
   "cell_type": "code",
   "execution_count": 8,
   "id": "7eafc795",
   "metadata": {},
   "outputs": [
    {
     "data": {
      "text/plain": [
       "4414"
      ]
     },
     "execution_count": 8,
     "metadata": {},
     "output_type": "execute_result"
    }
   ],
   "source": [
    "len(nb.G.nodes)"
   ]
  },
  {
   "cell_type": "code",
   "execution_count": 31,
   "id": "2e6e516c",
   "metadata": {},
   "outputs": [
    {
     "data": {
      "text/plain": [
       "'established km technology usbased engineering service company development center vietnam km technology trusted international client superior quality product expertise vietnamese engineer km build successfully launch software company internal startup _unknown_ km lab _unknown_ company include qasymphony kobiton katalon _unknown_ brand km solution company serf asia pacific region offering technology solution consulting bringing advanced latest technology asian market km committed making _unknown_ social impact partnering _unknown_ organization give _unknown_ student fair better employment opportunity company regularly _unknown_ university participates training activity specialized event sponsor scholarship program vietnam company received many prestigious industry award named one greatest place work vietnam asia u many year row'"
      ]
     },
     "execution_count": 31,
     "metadata": {},
     "output_type": "execute_result"
    }
   ],
   "source": [
    "nb.lsa.preprocess_text(nb.G.nodes['kms-technology']['overview'])"
   ]
  },
  {
   "cell_type": "code",
   "execution_count": 3,
   "id": "69ea70d2",
   "metadata": {},
   "outputs": [],
   "source": [
    "with open(constants.NETWORK_BUILDER_SAVE_PATH, 'rb') as f:\n",
    "    network = pickle.load(f)"
   ]
  },
  {
   "cell_type": "code",
   "execution_count": 4,
   "id": "582e1fda",
   "metadata": {},
   "outputs": [
    {
     "data": {
      "text/plain": [
       "32"
      ]
     },
     "execution_count": 4,
     "metadata": {},
     "output_type": "execute_result"
    }
   ],
   "source": [
    "len(network.G['kms-technology'])"
   ]
  },
  {
   "cell_type": "code",
   "execution_count": 6,
   "id": "3f795cb0",
   "metadata": {},
   "outputs": [
    {
     "data": {
      "text/plain": [
       "AdjacencyView({'kms-technology:jrsr_qa_engineer_kms_labs_bonus': {0: {'weight': 1, 'edge_type': 'posted'}}, 'kms-technology:engineering_manager_bonus': {0: {'weight': 1, 'edge_type': 'posted'}}, 'kms-technology:fullstack_mobile_mobilenodejs_kobiton': {0: {'weight': 1, 'edge_type': 'posted'}}, 'kms-technology:jrsrprincipal_java_developer_bonus': {0: {'weight': 1, 'edge_type': 'posted'}}, 'kms-technology:product_manager_kms_labs_bonus': {0: {'weight': 1, 'edge_type': 'posted'}}, 'kms-technology:sr_it_business_analyst_english_bonus': {0: {'weight': 1, 'edge_type': 'posted'}}, 'kms-technology:fullstack_dev_reactjsnodejs_kobiton': {0: {'weight': 1, 'edge_type': 'posted'}}, 'kms-technology:senior_ruby_on_rails_engineer_bonus': {0: {'weight': 1, 'edge_type': 'posted'}}, 'kms-technology:senior_data_engineer_bonus': {0: {'weight': 1, 'edge_type': 'posted'}}, 'kms-technology:srjr_fullstack_nodejsreactjs_bonus': {0: {'weight': 1, 'edge_type': 'posted'}}, 'kms-technology:juniorsenior_test_engineer_bonus': {0: {'weight': 1, 'edge_type': 'posted'}}, 'kms-technology:jrsrprincipal_net_developer_bonus': {0: {'weight': 1, 'edge_type': 'posted'}}, 'kms-technology': {0: {'edge_type': 'employer_to_employer'}}, 'kms-solutions': {0: {'edge_type': 'employer_to_employer'}}, 'javac-technology-software-company-ltd': {0: {'edge_type': 'employer_to_employer'}}, 'grove': {0: {'edge_type': 'employer_to_employer'}}, 'robert-bosch-engineering-and-business-solutions': {0: {'edge_type': 'employer_to_employer'}}, 'km-soft': {0: {'edge_type': 'employer_to_employer'}}, 'atalink-technology': {0: {'edge_type': 'employer_to_employer'}}, 'premielink': {0: {'edge_type': 'employer_to_employer'}}, 'messagemedia-in-partnership-with-positive-thinking-company': {0: {'edge_type': 'employer_to_employer'}}, 'seta-international-vietnam': {0: {'edge_type': 'employer_to_employer'}}, 'flinters-vietnam': {0: {'edge_type': 'employer_to_employer'}}, 'code-leap': {0: {'edge_type': 'employer_to_employer'}}, 'mirum-agency': {0: {'edge_type': 'employer_to_employer'}}, 'nhn-vietnam': {0: {'edge_type': 'employer_to_employer'}}, 'katalon': {0: {'edge_type': 'employer_to_employer'}}, 'matcha-forms': {0: {'edge_type': 'employer_to_employer'}}, 'seal-commerce': {0: {'edge_type': 'employer_to_employer'}}, 'restaff': {0: {'edge_type': 'employer_to_employer'}}, 'yoong': {0: {'edge_type': 'employer_to_employer'}}, 'mti-technology': {0: {'edge_type': 'employer_to_employer'}}})"
      ]
     },
     "execution_count": 6,
     "metadata": {},
     "output_type": "execute_result"
    }
   ],
   "source": [
    "network.G['kms-technology']"
   ]
  },
  {
   "cell_type": "code",
   "execution_count": 8,
   "id": "9eaf9f2d",
   "metadata": {},
   "outputs": [
    {
     "data": {
      "text/plain": [
       "{'node_type': 'candidate',\n",
       " 'expertise': 'Data Science',\n",
       " 'resume': 'Skills * Programming Languages: Python (pandas, numpy, scipy, scikit-learn, matplotlib), Sql, Java, JavaScript/JQuery. * Machine learning: Regression, SVM, NaÃ¯ve Bayes, KNN, Random Forest, Decision Trees, Boosting techniques, Cluster Analysis, Word Embedding, Sentiment Analysis, Natural Language processing, Dimensionality reduction, Topic Modelling (LDA, NMF), PCA & Neural Nets. * Database Visualizations: Mysql, SqlServer, Cassandra, Hbase, ElasticSearch D3.js, DC.js, Plotly, kibana, matplotlib, ggplot, Tableau. * Others: Regular Expression, HTML, CSS, Angular 6, Logstash, Kafka, Python Flask, Git, Docker, computer vision - Open CV and understanding of Deep learning.Education Details \\r\\n\\r\\nData Science Assurance Associate \\r\\n\\r\\nData Science Assurance Associate - Ernst & Young LLP\\r\\nSkill Details \\r\\nJAVASCRIPT- Exprience - 24 months\\r\\njQuery- Exprience - 24 months\\r\\nPython- Exprience - 24 monthsCompany Details \\r\\ncompany - Ernst & Young LLP\\r\\ndescription - Fraud Investigations and Dispute Services   Assurance\\r\\nTECHNOLOGY ASSISTED REVIEW\\r\\nTAR (Technology Assisted Review) assists in accelerating the review process and run analytics and generate reports.\\r\\n* Core member of a team helped in developing automated review platform tool from scratch for assisting E discovery domain, this tool implements predictive coding and topic modelling by automating reviews, resulting in reduced labor costs and time spent during the lawyers review.\\r\\n* Understand the end to end flow of the solution, doing research and development for classification models, predictive analysis and mining of the information present in text data. Worked on analyzing the outputs and precision monitoring for the entire tool.\\r\\n* TAR assists in predictive coding, topic modelling from the evidence by following EY standards. Developed the classifier models in order to identify \"red flags\" and fraud-related issues.\\r\\n\\r\\nTools & Technologies: Python, scikit-learn, tfidf, word2vec, doc2vec, cosine similarity, NaÃ¯ve Bayes, LDA, NMF for topic modelling, Vader and text blob for sentiment analysis. Matplot lib, Tableau dashboard for reporting.\\r\\n\\r\\nMULTIPLE DATA SCIENCE AND ANALYTIC PROJECTS (USA CLIENTS)\\r\\nTEXT ANALYTICS - MOTOR VEHICLE CUSTOMER REVIEW DATA * Received customer feedback survey data for past one year. Performed sentiment (Positive, Negative & Neutral) and time series analysis on customer comments across all 4 categories.\\r\\n* Created heat map of terms by survey category based on frequency of words * Extracted Positive and Negative words across all the Survey categories and plotted Word cloud.\\r\\n* Created customized tableau dashboards for effective reporting and visualizations.\\r\\nCHATBOT * Developed a user friendly chatbot for one of our Products which handle simple questions about hours of operation, reservation options and so on.\\r\\n* This chat bot serves entire product related questions. Giving overview of tool via QA platform and also give recommendation responses so that user question to build chain of relevant answer.\\r\\n* This too has intelligence to build the pipeline of questions as per user requirement and asks the relevant /recommended questions.\\r\\n\\r\\nTools & Technologies: Python, Natural language processing, NLTK, spacy, topic modelling, Sentiment analysis, Word Embedding, scikit-learn, JavaScript/JQuery, SqlServer\\r\\n\\r\\nINFORMATION GOVERNANCE\\r\\nOrganizations to make informed decisions about all of the information they store. The integrated Information Governance portfolio synthesizes intelligence across unstructured data sources and facilitates action to ensure organizations are best positioned to counter information risk.\\r\\n* Scan data from multiple sources of formats and parse different file formats, extract Meta data information, push results for indexing elastic search and created customized, interactive dashboards using kibana.\\r\\n* Preforming ROT Analysis on the data which give information of data which helps identify content that is either Redundant, Outdated, or Trivial.\\r\\n* Preforming full-text search analysis on elastic search with predefined methods which can tag as (PII) personally identifiable information (social security numbers, addresses, names, etc.) which frequently targeted during cyber-attacks.\\r\\nTools & Technologies: Python, Flask, Elastic Search, Kibana\\r\\n\\r\\nFRAUD ANALYTIC PLATFORM\\r\\nFraud Analytics and investigative platform to review all red flag cases.\\r\\nâ\\x80¢ FAP is a Fraud Analytics and investigative platform with inbuilt case manager and suite of Analytics for various ERP systems.\\r\\n* It can be used by clients to interrogate their Accounting systems for identifying the anomalies which can be indicators of fraud by running advanced analytics\\r\\nTools & Technologies: HTML, JavaScript, SqlServer, JQuery, CSS, Bootstrap, Node.js, D3.js, DC.js',\n",
       " 'reduced_tfidf': array([[ 0.3545443 , -0.12284035,  0.11838354, ...,  0.00057433,\n",
       "          0.00136013,  0.00192533]])}"
      ]
     },
     "execution_count": 8,
     "metadata": {},
     "output_type": "execute_result"
    }
   ],
   "source": [
    "network.G.nodes['candidate-0']"
   ]
  },
  {
   "cell_type": "code",
   "execution_count": null,
   "id": "33704236",
   "metadata": {},
   "outputs": [],
   "source": []
  }
 ],
 "metadata": {
  "kernelspec": {
   "display_name": "Python 3 (ipykernel)",
   "language": "python",
   "name": "python3"
  },
  "language_info": {
   "codemirror_mode": {
    "name": "ipython",
    "version": 3
   },
   "file_extension": ".py",
   "mimetype": "text/x-python",
   "name": "python",
   "nbconvert_exporter": "python",
   "pygments_lexer": "ipython3",
   "version": "3.7.11"
  }
 },
 "nbformat": 4,
 "nbformat_minor": 5
}
